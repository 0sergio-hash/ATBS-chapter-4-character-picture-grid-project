{
 "cells": [
  {
   "cell_type": "markdown",
   "metadata": {},
   "source": [
    "# Instructions for this project at the Automate the boring stuff with python [website](https://automatetheboringstuff.com/2e/chapter4/)."
   ]
  },
  {
   "cell_type": "markdown",
   "metadata": {},
   "source": [
    "**The purpose of this project was to print the provided grid column by column to show the pattern**"
   ]
  },
  {
   "cell_type": "code",
   "execution_count": 1,
   "metadata": {},
   "outputs": [
    {
     "name": "stdout",
     "output_type": "stream",
     "text": [
      "..00.00..\n",
      ".0000000.\n",
      ".0000000.\n",
      "..00000..\n",
      "...000...\n",
      "....0....\n"
     ]
    }
   ],
   "source": [
    "# Practice project: Character picture grid\n",
    "\n",
    "grid = [['.','.','.','.','.','.'],\n",
    "        ['.','0','0','.','.','.'],\n",
    "        ['0','0','0','0','.','.'],\n",
    "        ['0','0','0','0','0','.'],\n",
    "        ['.','0','0','0','0','0'],\n",
    "        ['0','0','0','0','0','.'],\n",
    "        ['0','0','0','0','.','.'],\n",
    "        ['.','0','0','.','.','.'],\n",
    "        ['.','.','.','.','.','.']]\n",
    "\n",
    "# Print picture in grid\n",
    "try:\n",
    "    for x in range(len(grid[:])):\n",
    "        for y in range(len(grid)):\n",
    "            print(grid[y][x], end = '')\n",
    "        print()\n",
    "\n",
    "# Previous code printed except it kept trying to go to index [0][6] or the 6th column that doesn't exist\n",
    "# so the except statement ends the execution before that happens \n",
    "except: \n",
    "    pass"
   ]
  },
  {
   "cell_type": "code",
   "execution_count": null,
   "metadata": {},
   "outputs": [],
   "source": []
  }
 ],
 "metadata": {
  "kernelspec": {
   "display_name": "ibm_project",
   "language": "python",
   "name": "ibm_project"
  },
  "language_info": {
   "codemirror_mode": {
    "name": "ipython",
    "version": 3
   },
   "file_extension": ".py",
   "mimetype": "text/x-python",
   "name": "python",
   "nbconvert_exporter": "python",
   "pygments_lexer": "ipython3",
   "version": "3.7.9"
  }
 },
 "nbformat": 4,
 "nbformat_minor": 4
}
